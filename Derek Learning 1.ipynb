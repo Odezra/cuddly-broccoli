{
 "cells": [
  {
   "cell_type": "code",
   "execution_count": 56,
   "id": "4807f391-1e58-4968-9e77-6cd403a4da65",
   "metadata": {},
   "outputs": [],
   "source": [
    "#Salary table for Sian\n",
    "sian_salary = 250000\n",
    "tax_rate = 0.40\n",
    "sian_netincome = sian_salary - (sian_salary * tax_rate)\n",
    "\n",
    "#Salary table for Derek\n",
    "derek_salary = 450000\n",
    "derek_netincome = derek_salary - (derek_salary * tax_rate)"
   ]
  },
  {
   "cell_type": "code",
   "execution_count": 62,
   "id": "24038673-c564-473b-8b45-4a76e9453980",
   "metadata": {},
   "outputs": [],
   "source": [
    "#combined household income\n",
    "total_householdincome = sian_netincome + derek_netincome"
   ]
  },
  {
   "cell_type": "code",
   "execution_count": 76,
   "id": "21d68ebc-1e5e-4e14-adf4-17fa461e20e3",
   "metadata": {},
   "outputs": [
    {
     "name": "stdout",
     "output_type": "stream",
     "text": [
      "total_householdincome: $420000.0\n"
     ]
    }
   ],
   "source": [
    "print(f\"total_householdincome: ${total_householdincome}\")"
   ]
  },
  {
   "cell_type": "code",
   "execution_count": 92,
   "id": "9b22315a-24f3-49ae-a837-8715903036fa",
   "metadata": {},
   "outputs": [
    {
     "name": "stdout",
     "output_type": "stream",
     "text": [
      "what's left in the kitty: $420000.0\n"
     ]
    }
   ],
   "source": [
    "print(f\"what's left in the kitty: ${total_householdincome}\")"
   ]
  },
  {
   "cell_type": "code",
   "execution_count": 94,
   "id": "aab53745-225a-49ea-9c0a-f8e380048881",
   "metadata": {},
   "outputs": [
    {
     "name": "stdout",
     "output_type": "stream",
     "text": [
      "the hat in the cat spent all the money $ 420000.0\n"
     ]
    }
   ],
   "source": [
    "print(\"the hat in the cat spent all the money $\", total_householdincome)"
   ]
  },
  {
   "cell_type": "code",
   "execution_count": 104,
   "id": "ef286fcd-d7d1-4f56-a13e-0c7b277ab10a",
   "metadata": {},
   "outputs": [
    {
     "data": {
      "text/plain": [
       "False"
      ]
     },
     "execution_count": 104,
     "metadata": {},
     "output_type": "execute_result"
    }
   ],
   "source": [
    "sian_salary == derek_salary and derek_salary != sian_salary"
   ]
  },
  {
   "cell_type": "code",
   "execution_count": 106,
   "id": "308281cf-c631-401b-8206-3911d43d3ce9",
   "metadata": {},
   "outputs": [
    {
     "data": {
      "text/plain": [
       "True"
      ]
     },
     "execution_count": 106,
     "metadata": {},
     "output_type": "execute_result"
    }
   ],
   "source": [
    "derek_salary >= sian_salary"
   ]
  },
  {
   "cell_type": "code",
   "execution_count": 126,
   "id": "d6c584ed-923e-4d68-85ee-d8497b101a21",
   "metadata": {},
   "outputs": [
    {
     "data": {
      "text/plain": [
       "True"
      ]
     },
     "execution_count": 126,
     "metadata": {},
     "output_type": "execute_result"
    }
   ],
   "source": [
    "not derek_salary == sian_salary"
   ]
  },
  {
   "cell_type": "markdown",
   "id": "861edca4-9eff-40a1-b7d6-886ec7b73bf0",
   "metadata": {},
   "source": [
    "# sdfsf\n",
    "\n",
    "\n",
    "Great  \n",
    "Great \n",
    "\n",
    "1. werw\n",
    "2. sdfsd\n",
    "\n",
    "* sdfsd\n",
    "* sdfsf\n",
    "\n",
    "[www.afr.com]\n",
    "\n",
    "```\n",
    "# perform this\n",
    "profit_per_bag = cost_of_icebag * .10\n",
    "\n"
   ]
  },
  {
   "cell_type": "markdown",
   "id": "aded8e6f-8b4c-4f78-965c-5cff199f7ce9",
   "metadata": {},
   "source": [
    "### Lesss goooo\n",
    "\n",
    "\n",
    "lET'S GO and test this commit\n"
   ]
  }
 ],
 "metadata": {
  "kernelspec": {
   "display_name": "Python [conda env:base] *",
   "language": "python",
   "name": "conda-base-py"
  },
  "language_info": {
   "codemirror_mode": {
    "name": "ipython",
    "version": 3
   },
   "file_extension": ".py",
   "mimetype": "text/x-python",
   "name": "python",
   "nbconvert_exporter": "python",
   "pygments_lexer": "ipython3",
   "version": "3.12.7"
  }
 },
 "nbformat": 4,
 "nbformat_minor": 5
}
