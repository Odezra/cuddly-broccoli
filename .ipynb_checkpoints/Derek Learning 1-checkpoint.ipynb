{
 "cells": [
  {
   "cell_type": "code",
   "execution_count": 56,
   "id": "4807f391-1e58-4968-9e77-6cd403a4da65",
   "metadata": {},
   "outputs": [],
   "source": [
    "#Salary table for Sian\n",
    "sian_salary = 250000\n",
    "tax_rate = 0.40\n",
    "sian_netincome = sian_salary - (sian_salary * tax_rate)\n",
    "\n",
    "#Salary table for Derek\n",
    "derek_salary = 450000\n",
    "derek_netincome = derek_salary - (derek_salary * tax_rate)"
   ]
  },
  {
   "cell_type": "code",
   "execution_count": 62,
   "id": "24038673-c564-473b-8b45-4a76e9453980",
   "metadata": {},
   "outputs": [],
   "source": [
    "#combined household income\n",
    "total_householdincome = sian_netincome + derek_netincome"
   ]
  },
  {
   "cell_type": "code",
   "execution_count": 76,
   "id": "21d68ebc-1e5e-4e14-adf4-17fa461e20e3",
   "metadata": {},
   "outputs": [
    {
     "name": "stdout",
     "output_type": "stream",
     "text": [
      "total_householdincome: $420000.0\n"
     ]
    }
   ],
   "source": [
    "print(f\"total_householdincome: ${total_householdincome}\")"
   ]
  },
  {
   "cell_type": "code",
   "execution_count": 92,
   "id": "9b22315a-24f3-49ae-a837-8715903036fa",
   "metadata": {},
   "outputs": [
    {
     "name": "stdout",
     "output_type": "stream",
     "text": [
      "what's left in the kitty: $420000.0\n"
     ]
    }
   ],
   "source": [
    "print(f\"what's left in the kitty: ${total_householdincome}\")"
   ]
  },
  {
   "cell_type": "code",
   "execution_count": 94,
   "id": "aab53745-225a-49ea-9c0a-f8e380048881",
   "metadata": {},
   "outputs": [
    {
     "name": "stdout",
     "output_type": "stream",
     "text": [
      "the hat in the cat spent all the money $ 420000.0\n"
     ]
    }
   ],
   "source": [
    "print(\"the hat in the cat spent all the money $\", total_householdincome)"
   ]
  },
  {
   "cell_type": "code",
   "execution_count": 104,
   "id": "ef286fcd-d7d1-4f56-a13e-0c7b277ab10a",
   "metadata": {},
   "outputs": [
    {
     "data": {
      "text/plain": [
       "False"
      ]
     },
     "execution_count": 104,
     "metadata": {},
     "output_type": "execute_result"
    }
   ],
   "source": [
    "sian_salary == derek_salary and derek_salary != sian_salary"
   ]
  },
  {
   "cell_type": "code",
   "execution_count": 106,
   "id": "308281cf-c631-401b-8206-3911d43d3ce9",
   "metadata": {},
   "outputs": [
    {
     "data": {
      "text/plain": [
       "True"
      ]
     },
     "execution_count": 106,
     "metadata": {},
     "output_type": "execute_result"
    }
   ],
   "source": [
    "derek_salary >= sian_salary"
   ]
  },
  {
   "cell_type": "code",
   "execution_count": 126,
   "id": "d6c584ed-923e-4d68-85ee-d8497b101a21",
   "metadata": {},
   "outputs": [
    {
     "data": {
      "text/plain": [
       "True"
      ]
     },
     "execution_count": 126,
     "metadata": {},
     "output_type": "execute_result"
    }
   ],
   "source": [
    "not derek_salary == sian_salary"
   ]
  },
  {
   "cell_type": "markdown",
   "id": "861edca4-9eff-40a1-b7d6-886ec7b73bf0",
   "metadata": {},
   "source": [
    "# sdfsf\n",
    "\n",
    "\n",
    "Great  \n",
    "Great \n",
    "\n",
    "1. werw\n",
    "2. sdfsd\n",
    "\n",
    "* sdfsd\n",
    "* sdfsf\n",
    "\n",
    "[www.afr.com]\n",
    "\n",
    "```\n",
    "# perform this\n",
    "profit_per_bag = cost_of_icebag * .10\n",
    "\n"
   ]
  },
  {
   "cell_type": "markdown",
   "id": "aded8e6f-8b4c-4f78-965c-5cff199f7ce9",
   "metadata": {},
   "source": [
    "### Lesss goooo\n",
    "\n",
    "\n",
    "lET'S GO and test this commit\n"
   ]
  },
  {
   "cell_type": "code",
   "execution_count": 135,
   "id": "41ab6af3-5cbc-4ba1-bd7c-1bf1ee0bd2d1",
   "metadata": {},
   "outputs": [],
   "source": [
    "dereks_gymequip= ['dumbell','barbell','ezcurl','mat','strap']"
   ]
  },
  {
   "cell_type": "code",
   "execution_count": 38,
   "id": "2348d45f-3fcf-407f-b48b-297bfa10c675",
   "metadata": {},
   "outputs": [
    {
     "data": {
      "text/plain": [
       "5"
      ]
     },
     "execution_count": 38,
     "metadata": {},
     "output_type": "execute_result"
    }
   ],
   "source": [
    "len(dereks_gymequip)"
   ]
  },
  {
   "cell_type": "code",
   "execution_count": 68,
   "id": "5853bce1-cd27-487f-a983-2b26f8d6eefe",
   "metadata": {},
   "outputs": [],
   "source": [
    "dumbell_weightspairs = ['10kg', '15kg', '20kg']"
   ]
  },
  {
   "cell_type": "code",
   "execution_count": 89,
   "id": "a058cb37-0584-4084-a953-725754d22439",
   "metadata": {},
   "outputs": [
    {
     "data": {
      "text/plain": [
       "['dumbell', 'barbell', 'ezcurl', 'mat', 'strap', '10kg', '15kg', '20kg']"
      ]
     },
     "execution_count": 89,
     "metadata": {},
     "output_type": "execute_result"
    }
   ],
   "source": [
    "list(allequip)"
   ]
  },
  {
   "cell_type": "code",
   "execution_count": 119,
   "id": "c7b6de57-5193-4f5f-87d3-870d9ee434a3",
   "metadata": {},
   "outputs": [
    {
     "data": {
      "text/plain": [
       "False"
      ]
     },
     "execution_count": 119,
     "metadata": {},
     "output_type": "execute_result"
    }
   ],
   "source": [
    "'barbell' in dereks_gymequip"
   ]
  },
  {
   "cell_type": "code",
   "execution_count": 121,
   "id": "2398e1c5-1003-4699-9a8e-c92b3287fb48",
   "metadata": {},
   "outputs": [
    {
     "data": {
      "text/plain": [
       "True"
      ]
     },
     "execution_count": 121,
     "metadata": {},
     "output_type": "execute_result"
    }
   ],
   "source": [
    "'barbell' in allequip"
   ]
  },
  {
   "cell_type": "code",
   "execution_count": 125,
   "id": "6874c638-a2fb-4368-b335-15b03ca425e1",
   "metadata": {},
   "outputs": [
    {
     "data": {
      "text/plain": [
       "True"
      ]
     },
     "execution_count": 125,
     "metadata": {},
     "output_type": "execute_result"
    }
   ],
   "source": [
    "'barbell' in dereks_gymequip"
   ]
  },
  {
   "cell_type": "raw",
   "id": "a413ad72-535d-4215-b8f3-14b70afda19e",
   "metadata": {},
   "source": [
    "sdfsdf"
   ]
  },
  {
   "cell_type": "code",
   "execution_count": 127,
   "id": "2e431294-15ce-43ac-8a7f-ded3f444ff9c",
   "metadata": {},
   "outputs": [
    {
     "name": "stdout",
     "output_type": "stream",
     "text": [
      "['dumbell', 'ezcurl', 'mat', 'strap']\n"
     ]
    }
   ],
   "source": [
    "dereks_gymequip.remove('barbell')\n",
    "print(dereks_gymequip)"
   ]
  },
  {
   "cell_type": "code",
   "execution_count": 151,
   "id": "230173fe-a023-46bb-8804-e58827510ed7",
   "metadata": {},
   "outputs": [
    {
     "name": "stdout",
     "output_type": "stream",
     "text": [
      "mat\n",
      "['dumbell', 'barbell', 'ezcurl']\n"
     ]
    }
   ],
   "source": [
    "whereismystrap = dereks_gymequip.pop()\n",
    "print(whereismystrap)\n",
    "print(dereks_gymequip)"
   ]
  },
  {
   "cell_type": "code",
   "execution_count": 157,
   "id": "fb169aa7-d1d1-4287-992b-00409d189d0c",
   "metadata": {},
   "outputs": [
    {
     "name": "stdout",
     "output_type": "stream",
     "text": [
      "ezcurl\n"
     ]
    }
   ],
   "source": [
    "opfind_ezcurl = dereks_gymequip.pop(2)\n",
    "print(opfind_ezcurl)"
   ]
  },
  {
   "cell_type": "code",
   "execution_count": 159,
   "id": "76899e06-59a1-456a-a65d-56b54ab67ace",
   "metadata": {},
   "outputs": [
    {
     "name": "stdout",
     "output_type": "stream",
     "text": [
      "['dumbell', 'barbell']\n"
     ]
    }
   ],
   "source": [
    "print(dereks_gymequip)"
   ]
  },
  {
   "cell_type": "code",
   "execution_count": 163,
   "id": "e5846118-48fa-4550-8b1d-ab997af00518",
   "metadata": {},
   "outputs": [],
   "source": [
    "nodumbell = dereks_gymequip[0] = 'ball'"
   ]
  },
  {
   "cell_type": "code",
   "execution_count": 165,
   "id": "7325f66d-b128-45a7-be0e-842051f37ae5",
   "metadata": {},
   "outputs": [
    {
     "name": "stdout",
     "output_type": "stream",
     "text": [
      "ball\n"
     ]
    }
   ],
   "source": [
    "print(nodumbell)"
   ]
  },
  {
   "cell_type": "code",
   "execution_count": 167,
   "id": "1eb2667c-d11e-4aff-9743-aae28d70fe07",
   "metadata": {},
   "outputs": [
    {
     "name": "stdout",
     "output_type": "stream",
     "text": [
      "['ball', 'barbell']\n"
     ]
    }
   ],
   "source": [
    "print(dereks_gymequip)"
   ]
  }
 ],
 "metadata": {
  "kernelspec": {
   "display_name": "Python [conda env:base] *",
   "language": "python",
   "name": "conda-base-py"
  },
  "language_info": {
   "codemirror_mode": {
    "name": "ipython",
    "version": 3
   },
   "file_extension": ".py",
   "mimetype": "text/x-python",
   "name": "python",
   "nbconvert_exporter": "python",
   "pygments_lexer": "ipython3",
   "version": "3.12.7"
  }
 },
 "nbformat": 4,
 "nbformat_minor": 5
}
